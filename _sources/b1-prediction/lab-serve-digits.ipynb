{
 "cells": [
  {
   "cell_type": "markdown",
   "metadata": {},
   "source": [
    "# Lab: Serving Digits with FastAPI\n",
    "\n",
    "Previously we made a model. Now it's time to serve it so others can use it!"
   ]
  },
  {
   "cell_type": "markdown",
   "metadata": {},
   "source": [
    "## Pre-lab\n",
    "\n",
    "For this lab, you will serve your previously trained MNIST digits model.\n",
    "\n",
    "1. Make your own copy of the template repository: [https://github.com/USAFA-ECE/ece386-lab01](https://github.com/USAFA-ECE/ece386-lab01)\n",
    "2. Commit your Keras neural network model for predicting digits into `server/digits.keras`\n",
    "3. Make four images of different handwritten digits and place them into `client/img/`"
   ]
  },
  {
   "cell_type": "markdown",
   "metadata": {},
   "source": [
    "## Colab Demo\n",
    "\n",
    "This exercise simply demonstrates how to serve a [FastAPI](https://github.com/FastAPI/FastAPI) app in Google Colab.\n",
    "\n",
    "### Get a terminal\n",
    "\n",
    "First, we install [colab-xterm](https://github.com/InfuseAI/colab-xterm), which allows us to have an interactive terminal.\n",
    "We will need this to run the app process, since normally colab runs a process and then kills it."
   ]
  },
  {
   "cell_type": "code",
   "execution_count": null,
   "metadata": {},
   "outputs": [],
   "source": [
    "%pip install -q \"fastapi[standard]\""
   ]
  },
  {
   "cell_type": "code",
   "execution_count": 4,
   "metadata": {},
   "outputs": [],
   "source": [
    "!pip install -q colab-xterm\n",
    "%load_ext colabxterm"
   ]
  },
  {
   "cell_type": "code",
   "execution_count": null,
   "metadata": {},
   "outputs": [],
   "source": [
    "%xterm"
   ]
  },
  {
   "cell_type": "markdown",
   "metadata": {},
   "source": [
    "You should now have an interactive terminal! Run a command in it, such as\n",
    "\n",
    "```bash\n",
    "pwd\n",
    "```\n",
    "\n",
    "### Create python script\n",
    "\n",
    "Next we will create the python file. Run the command\n",
    "\n",
    "```bash\n",
    "vim hello.py\n",
    "```\n",
    "\n",
    "Vim is a ubiquitous text editor in linux systems. Enter insert mode by pressing the **i** key.\n",
    "Then paste in this code:\n",
    "\n",
    "```python\n",
    "from fastapi import FastAPI\n",
    "\n",
    "app = FastAPI()\n",
    "\n",
    "@app.get(\"/\")\n",
    "def read_root():\n",
    "    return {\"Hello\": \"World\"}\n",
    "\n",
    "```\n",
    "\n",
    "Figure out [how to exit Vim](https://trends.google.com/trends/explore?date=today%205-y&q=how%20to%20exit%20vim&hl=en).\n",
    "\n",
    "Once you exit the file, you can make sure you saved it properly with\n",
    "\n",
    "```bash\n",
    "cat hello.py\n",
    "```\n",
    "\n",
    "### Run the script\n",
    "\n",
    "In production, you would query a domain and [DNS](https://www.cloudflare.com/learning/dns/what-is-dns/) would resolve that to an IP address. But since we are just doing testing, simply look at what your IP address is with this command:\n",
    "\n",
    "```bash\n",
    "ip a\n",
    "```\n",
    "\n",
    "It shows a loopback at `127.0.0.1` (this is a reserved address and *always* means \"myself\").\n",
    "You will also see an eth0 address that probably starts with `172.`. This subnet is reserved for local networks.\n",
    "In production, this would be a public IP address, but this will work for now... we are just going to talk to ourselves.\n",
    "\n",
    "Run the script! We will use dev mode.\n",
    "\n",
    "```bash\n",
    "# First, view help menu\n",
    "fastapi dev --help\n",
    "\n",
    "# Then, you can run the app\n",
    "# 8000 is the default port\n",
    "fastapi dev hello.py\n",
    "```\n",
    "\n",
    "You should see something starting like:\n",
    "\n",
    "> Serving at: http://127.0.0.1:8000 \n",
    "> ...\n",
    "> Application startup somplete.\n",
    "\n",
    "Notice that in `dev` mode you get automatic reloading and more debug info, *but* the app only listens on the local host.\n",
    "In `run` mode FastAPI will listen on all interfaces.\n",
    "\n",
    "### Hit the API\n",
    "\n",
    "Now it's time to connect to the API endpoint and see what we get!\n",
    "\n",
    "Down the road we'll do this with Python, but for our quick test, just run the below cell."
   ]
  },
  {
   "cell_type": "code",
   "execution_count": null,
   "metadata": {},
   "outputs": [],
   "source": [
    "!curl 127.0.0.1:8000/"
   ]
  },
  {
   "cell_type": "markdown",
   "metadata": {},
   "source": [
    "You should see a glorious **{\"Hello\": \"World\"}** returned! Yes, that's [JSON](https://www.w3schools.com/whatis/whatis_json.asp) being returned.\n",
    "JSON is a standard way of representing text data, and you'll need to learn to work with it a bit.\n",
    "\n",
    "Back in your terminal, you should also see a \"GET\" request from yourself that was answered with a \"200 OK\" status code.\n",
    "You don't need to go in-depth on [HTTP response status codes](https://developer.mozilla.org/en-US/docs/Web/HTTP/Status/418), but\n",
    "\n",
    "- 100s for info\n",
    "- 200s for success\n",
    "- 300s for redirect\n",
    "- 400s for client error\n",
    "- 500s for server error\n",
    "\n",
    "So a \"404 Not Found\" error is your fault, as the client, because you requested something that doesn't exist!"
   ]
  },
  {
   "cell_type": "markdown",
   "metadata": {},
   "source": [
    "## Lab\n",
    "\n",
    "This lab will require significant self-learning! You'll absolutely need to spend time reading documentation.\n",
    "\n",
    "Large Language Models (such as ChatGPT or Claude) are authorized for clarifying questions and how to do very specific things, *but* you cannot ask for a large chunk of the program. Furthermore, you **must document in the README by:**\n",
    "1. Stating  your  primary query AND\n",
    "2. Providing a link to the entire conversation.\n",
    "\n",
    "> For example, this is ok:\n",
    "> \"Write a demo FastAPI POST that can accepts an image and explain each line.\"\n",
    ">\n",
    "> But this is **not** ok:\n",
    "> \"Write a FastAPI app with a POST method that feeds an image into a Keras model.\"\n",
    ">\n",
    "> *Disclaimer*, I entered both of those prompts into ChatGPT and neither one was very good!\n",
    "> You really, really, need to be careful taking code from LLMs.\n",
    "> A better approach might be \"I have this simple FastAPI method, but am new to using the package.\n",
    "> Can you help explain and critique it for me?\"\n",
    "\n",
    "```{note}\n",
    "You should do your development and testing on a single local machine, and then deploy to the server.\n",
    "```\n",
    "\n",
    "### Server\n",
    "\n",
    "You will use a Raspberry Pi as your server.\n",
    "All the code for the server will be located in the `server/` directory of your repository.\n",
    "\n",
    "1. Clone your repository.\n",
    "2. Create a virtual environment on a Raspberry Pi.\n",
    "3. Use `server/requirements.txt` to install packages.\n",
    "4. Serve the model with `fastapi run digits.py`\n",
    "\n",
    "The app should simply:\n",
    "\n",
    "- Open the previously saved Keras model.\n",
    "- Accept a POST request to `/predict`.\n",
    "- Reshape and grayscale the image to work with the model's input expectations.\n",
    "- Conduct inference on the image and return an integer of the predicted class.\n",
    "\n",
    "### Client\n",
    "\n",
    "For your client, you can use any machine with Python and on the same network as the Pi.\n",
    "All the code for the client will be in the `client` directory of your repository.\n",
    "\n",
    "1. Clone your repository.\n",
    "2. Create a virtual environment on your client.\n",
    "3. Use `client/requirements.txt` to install packages.\n",
    "4. Run `client.py \"xxx.xxx.xxx.xxx\"`, where the X's are the IP address of the server.\n",
    "5. `client.py` prompts the user for a path to an image. After hitting \"enter\" the client makes an HTTP POST request to the server, waits for the response, then displays the integer to the user.\n",
    "6. The client continues to prompt the user until the user exits with CTRL+C.\n",
    "\n",
    "```{tip}\n",
    "The [requests](https://requests.readthedocs.io/en/latest/) package is easier to use than the built-in urllib.\n",
    "```\n",
    "\n",
    "### Deliverables\n",
    "\n",
    "- Demonstrate your client-server exchange.\n",
    "- Complete the three README's in the repository (root, client, server).\n",
    "- Push your code and submit to Gradescope."
   ]
  },
  {
   "cell_type": "markdown",
   "metadata": {},
   "source": [
    "# Lab Workday"
   ]
  }
 ],
 "metadata": {
  "kernelspec": {
   "display_name": ".venv",
   "language": "python",
   "name": "python3"
  },
  "language_info": {
   "codemirror_mode": {
    "name": "ipython",
    "version": 3
   },
   "file_extension": ".py",
   "mimetype": "text/x-python",
   "name": "python",
   "nbconvert_exporter": "python",
   "pygments_lexer": "ipython3",
   "version": "3.10.12"
  }
 },
 "nbformat": 4,
 "nbformat_minor": 2
}

{
 "cells": [
  {
   "cell_type": "markdown",
   "metadata": {},
   "source": [
    "# Text Vectorization\n",
    "\n",
    "The first step in Natural Language Processing (NLP) is to get the words into a format that we can do math on them.\n",
    "\n",
    "## Pre-reading\n",
    "\n",
    "Lightly read this:\n",
    "- [DeepLearning AI: A Complete Guide to Natural Language Processing](https://www.deeplearning.ai/resources/natural-language-processing/)\n",
    "\n",
    "Be prepared to reference this:\n",
    "- [*Deep Learning with Python*, 11.0 - 11.3](https://learning.oreilly.com/library/view/deep-learning-with/9781617296864/Text/11.htm)\n",
    "\n",
    "### Objectives\n",
    "\n",
    "- Gain a basic understanding of natural language processing (NLP)\n",
    "- Prepare text data for computer processing.\n",
    "- Vectorize text."
   ]
  },
  {
   "cell_type": "markdown",
   "metadata": {},
   "source": [
    "## Overview\n",
    "\n",
    "### Natural Language Processing\n",
    "\n",
    "> Natural language processing (NLP) is a field of computer science and a subfield of artificial intelligence that aims to make computers understand human language. NLP uses computational linguistics, which is the study of how language works, and various models based on statistics, machine learning, and deep learning. ~ Geeks for Geeks\n",
    "\n",
    "*See the DeepLearning AI post for more **why**, what, and how*.\n",
    "\n",
    "### Math with Words\n",
    "\n",
    "> Deep learning models, being differentiable functions, can only process numeric tensors: they can’t take raw text as input. *Vectorizing* text is the process of transforming text into numeric tensors.\n",
    "> ~ *Deep Learning with Python*\n",
    "\n",
    "0. **Explore** the dataset to see understand what it contains.\n",
    "1. **Standardize** text to make it easier to process, such as by converting it to lowercase or removing formatting.\n",
    "2. **Tokenize** the text by splitting it into units.\n",
    "3. **Index** the tokens into a numerical vector.\n",
    "\n",
    "![From raw text to vectors, *Deep Learning with Python, 2nd Ed*, fig. 11.1](../img/deep_learning_with_python-fig-11-01.png)\n",
    "\n",
    "#### Exploration\n",
    "\n",
    "Although not listed in the text book, but you should always begin with exploring the dataset to understand what it contains: data format and potential bias!\n",
    "\n",
    "### Standardization\n",
    "\n",
    "Examples of standardization include converting to lowercase, standardizing punctuation and special characters, and stemming.\n",
    "\n",
    "```{mermaid}\n",
    "graph LR\n",
    "   A[\"My altitude is 7258\" above sea-level, far, far above that of West Point or Annapolis!\"] --> norm((\"Normalize Text\"))\n",
    "   B[\"My altitude is 7258 ft. above sea level, FAR FAR above that of west point or Annapolis!\"] --> norm\n",
    "   norm --> result[\"my altitude is 7258 feet above sea level far far above that of west point or annapolis !\"]\n",
    "```\n",
    "\n",
    "### Tokenization\n",
    "\n",
    "You can tokenize in different ways.\n",
    "\n",
    "Here is an example of **word-level** tokenization.\n",
    "\n",
    "```json\n",
    "{\"my\", \"altitude\", \"is\", \"7258\", \"feet\", \"above\", \"sea\", \"level\", \"far\", \"far\", \"above\", \"that\", \"of\", \"west\", \"point\", \"or\", \"annapolis\", \"!\"}\n",
    "```\n",
    "\n",
    "Here is an example of **bag-of-3-grams** tokenization.\n",
    "\n",
    "```json\n",
    "{\"my altitude is\", \"altitude is 7258\", \"is 7258 feet\", \"7258 feet above\", \"feet above sea\", \"above sea level\", \"sea level far\", \"level far far\", \"far far above\", \"far above that\", \"above that of\", \"that of west\", \"of west point\", \"west point or\", \"point or annapolis\"}\n",
    "```\n",
    "\n",
    "### Indexing\n",
    "\n",
    "The simplest way to represent tokens in a vector is with the **bag-of-words** approach, which just counts how many times each token appears in the text.\n",
    "\n",
    "```json\n",
    "{\"my\": 1, \"altitude\": 1, \"is\": 1, \"7258\": 1, \"feet\": 1, \"above\": 2, \"sea\": 1, \"level\": 1, \"far\": 2, \"that\": 1, \"of\": 1, \"west\": 1, \"point\": 1, \"or\": 1, \"annapolis\": 1, \"!\": 1}\n",
    "```\n",
    "\n",
    "As simple as this is, it can be highly effective! However, you lose sequence information, which can be critical. Moving to N-grams can help!\n",
    "\n",
    "**Sequence models** are a more advanced method of retaining sequence information, for more advanced use-cases."
   ]
  },
  {
   "cell_type": "markdown",
   "metadata": {},
   "source": [
    "## Exercise\n",
    "\n",
    "For this exercise we will use [Inaugural Addresses from American Presidents](https://www.presidency.ucsb.edu/documents/app-categories/spoken-addresses-and-remarks/presidential/inaugural-addresses).\n",
    "\n",
    "Go to the website now and think how you might put all of these into an easy-to-ingest document.\n",
    "\n",
    "Fortunately, I\"ve already extracted some of these and placed them in [book/data/inagural_addresses.csv](../data/inaugural_addresses.csv)\n",
    "\n",
    "### Explore\n",
    "\n",
    "As always, we should preview some stats about what we are diving in to.\n",
    "\n",
    "> **Prompt GPT4-Advanced Data Analytics**: Use pandas to provide a quick summary of this CSV"
   ]
  },
  {
   "cell_type": "code",
   "execution_count": null,
   "metadata": {},
   "outputs": [],
   "source": [
    "# Download the dataset, if not running in VSCode\n",
    "# !wget https://raw.githubusercontent.com/USAFA-ECE/ece386-book/refs/heads/main/book/data/inaugural_addresses.csv"
   ]
  },
  {
   "cell_type": "code",
   "execution_count": null,
   "metadata": {},
   "outputs": [],
   "source": [
    "import pandas as pd\n",
    "\n",
    "# Change if running in colab\n",
    "csv_path = \"../data/inaugural_addresses.csv\"\n",
    "\n",
    "# Load the CSV into a pandas DataFrame\n",
    "df = pd.read_csv(csv_path)\n",
    "\n",
    "# Display the first few rows of the DataFrame and its summary\n",
    "df_head = df.head()\n",
    "df_info = df.info()\n",
    "\n",
    "df_head"
   ]
  },
  {
   "cell_type": "markdown",
   "metadata": {},
   "source": [
    "#### Word Clouds\n",
    "\n",
    "Unlike numerical data, we cannot easily do things like mean, median, or standard deviation with text data.\n",
    "\n",
    "Let\"s try a word cloud, just for fun."
   ]
  },
  {
   "cell_type": "code",
   "execution_count": null,
   "metadata": {},
   "outputs": [],
   "source": [
    "%pip install -q wordcloud"
   ]
  },
  {
   "cell_type": "code",
   "execution_count": null,
   "metadata": {},
   "outputs": [],
   "source": [
    "import matplotlib.pyplot as plt\n",
    "from wordcloud import WordCloud\n",
    "\n",
    "\n",
    "def plot_wordcloud(df: pd.DataFrame, column: str = \"Text\") -> None:\n",
    "    # Set up the figure size and number of subplots\n",
    "    fig, axes = plt.subplots(nrows=df.shape[0], ncols=1, figsize=(15, 30))\n",
    "\n",
    "    # Loop through each row of the DataFrame and generate a word cloud from the column\n",
    "    for i, (index, row) in enumerate(df.iterrows()):\n",
    "        # Create a word cloud object\n",
    "        wc = WordCloud(\n",
    "            # stopwords is empty here, but can replace with wordcloud.STOPWORDS as a default list\n",
    "            background_color=\"white\",\n",
    "            stopwords=[],\n",
    "            max_words=100,\n",
    "            width=800,\n",
    "            height=400,\n",
    "        )\n",
    "\n",
    "        # Generate the word cloud from the column variable\n",
    "        wc.generate(row[column])\n",
    "\n",
    "        # Display the word cloud on the subplot\n",
    "        axes[i].imshow(wc, interpolation=\"bilinear\")\n",
    "        axes[i].axis(\"off\")\n",
    "        axes[i].set_title(f\"{row[\"President\"]} ({row[\"Year\"]})\", fontsize=37)"
   ]
  },
  {
   "cell_type": "code",
   "execution_count": null,
   "metadata": {},
   "outputs": [],
   "source": [
    "plot_wordcloud(df)"
   ]
  },
  {
   "cell_type": "markdown",
   "metadata": {},
   "source": [
    "## Standardize\n",
    "\n",
    "We will do the following to standardize our dataset:\n",
    "\n",
    "1. Convert to lowercase\n",
    "2. Remove stop words\n",
    "2. Apply stemming\n",
    "\n",
    "#### Stop Words\n",
    "\n",
    "As you can see in word clouds, words such as \"and\" and \"the\" dominate, but don\"t provide very much meaning.\n",
    "\n",
    "To combat this, we will be [Removing stop words with NLTK in Python](https://www.geeksforgeeks.org/removing-stop-words-nltk-python/).\n",
    "\n",
    "```{note}\n",
    "By default the `WordCloud` class applies english stop words present in the wordcloud.STOPWORDS list.\n",
    "The code above deliberately prevented this by passing the argument `stopwords=[]`.\n",
    "```"
   ]
  },
  {
   "cell_type": "code",
   "execution_count": null,
   "metadata": {},
   "outputs": [],
   "source": [
    "%pip install -q nltk"
   ]
  },
  {
   "cell_type": "code",
   "execution_count": null,
   "metadata": {},
   "outputs": [],
   "source": [
    "import nltk\n",
    "from nltk.corpus import stopwords\n",
    "\n",
    "nltk.download(\"stopwords\")\n",
    "print(stopwords.words(\"english\"))"
   ]
  },
  {
   "cell_type": "markdown",
   "metadata": {},
   "source": [
    "#### Stemming\n",
    "\n",
    "**Stemming** reduces an inflected word to its base; for example: runs; running; ran --> \"run\"."
   ]
  },
  {
   "cell_type": "code",
   "execution_count": null,
   "metadata": {},
   "outputs": [],
   "source": [
    "from nltk.stem import PorterStemmer\n",
    "\n",
    "# create an object of class PorterStemmer\n",
    "porter = PorterStemmer()\n",
    "print(porter.stem(\"play\"))\n",
    "print(porter.stem(\"playing\"))\n",
    "print(porter.stem(\"plays\"))\n",
    "print(porter.stem(\"played\"))"
   ]
  },
  {
   "cell_type": "markdown",
   "metadata": {},
   "source": [
    "##### Lemmatization\n",
    "\n",
    "Another common text pre-processing technique is [lemmatization](https://en.wikipedia.org/wiki/Lemmatization).\n",
    "\n",
    "> In linguistics, is the process of grouping together the inflected forms of a word so they can be analyzed as a single item, identified by the word\"s lemma, or dictionary form.\n",
    "\n",
    "**Stemming** reduces an inflected word to its base; for example: runs; running; ran --> \"run\".\n",
    "\n",
    "**Lemmatizing** goes further by using knowledge of surrounding words.\n",
    "\n",
    "1. The word \"better\" has \"good\" as its lemma. This link is missed by stemming, as it requires a dictionary look-up.\n",
    "2. The word \"walk\" is the base form for the word \"walking\", and hence this is matched in both stemming and lemmatization.\n",
    "3. The word \"meeting\" can be either the base form of a noun or a form of a verb (\"to meet\") depending on the context; e.g., \"in our last meeting\" or \"We are meeting again tomorrow\". Unlike stemming, lemmatization attempts to select the correct lemma depending on the context."
   ]
  },
  {
   "cell_type": "markdown",
   "metadata": {},
   "source": [
    "## Tokenize\n",
    "\n",
    "Because of how `nltk` works, we will actually standardize while we tokenize. In our case, we will just do **word** tokens, but there are *many* other options!"
   ]
  },
  {
   "cell_type": "code",
   "execution_count": null,
   "metadata": {},
   "outputs": [],
   "source": [
    "import nltk\n",
    "from nltk.corpus import stopwords\n",
    "from nltk.stem import PorterStemmer\n",
    "\n",
    "# Assume we previously loaded inaugural_addresses.csv into df\n",
    "\n",
    "# Initialize the stemmer\n",
    "stemmer = PorterStemmer()\n",
    "\n",
    "\n",
    "# Define a function that applies stemming and stopwords removal\n",
    "def preprocess(text):\n",
    "    # Tokenize the text word-by-word\n",
    "    tokens = nltk.word_tokenize(text)\n",
    "\n",
    "    # Convert to lowercase, remove stopwords, and apply stemming\n",
    "    tokens = [\n",
    "        stemmer.stem(word)\n",
    "        for word in tokens\n",
    "        if word.lower() not in stopwords.words(\"english\")\n",
    "    ]\n",
    "\n",
    "    return tokens\n",
    "\n",
    "\n",
    "# Apply the function to the \"text\" column\n",
    "df[\"tokens\"] = df[\"Text\"].apply(preprocess)\n",
    "\n",
    "# Preview the result\n",
    "print(f\"Original text: \\n{df[\"Text\"].head()}\")\n",
    "print(f\"Tokens: \\n{df[\"tokens\"].head()}\")"
   ]
  },
  {
   "cell_type": "code",
   "execution_count": null,
   "metadata": {},
   "outputs": [],
   "source": [
    "# Put clean text back into a string for wordcloud\n",
    "df[\"standardized_text\"] = df[\"tokens\"].apply(lambda x: \" \".join(x))\n",
    "plot_wordcloud(df, \"standardized_text\")"
   ]
  },
  {
   "cell_type": "markdown",
   "metadata": {},
   "source": [
    "## Index\n",
    "\n",
    "Now we get to put our standardized words into a vector!\n",
    "\n",
    "We will be using scikit-learn\"s [CountVectorizer to Extracting Features from Text (Geeks for Geeks)](https://www.geeksforgeeks.org/using-countvectorizer-to-extracting-features-from-text/).\n",
    "\n",
    "> Class [`CountVectorizer`](https://scikit-learn.org/stable/modules/generated/sklearn.feature_extraction.text.CountVectorizer.html) converts a collection of text documents to a matrix of token counts.\n",
    "> This implementation produces a sparse representation of the counts using scipy.sparse.csr_matrix."
   ]
  },
  {
   "cell_type": "markdown",
   "metadata": {},
   "source": [
    "### Bag of Words\n",
    "\n",
    "The naive - but sometimes highly effective - approach is the \"Bag of Words\" approach: simply count how many times words show up!\n",
    "\n",
    "This is actually what are word clouds are doing under the hood!\n",
    "\n",
    "```{important}\n",
    "This produces a **sparse matrix**, meaning there are lots of zeros!\n",
    "As a pro, such matrices can be highly compressed. However, they also present unique challenges in machine learning.\n",
    "```"
   ]
  },
  {
   "cell_type": "code",
   "execution_count": null,
   "metadata": {},
   "outputs": [],
   "source": [
    "from sklearn.feature_extraction.text import CountVectorizer\n",
    "\n",
    "# Create a Vectorizer Object\n",
    "vectorizer = CountVectorizer()\n",
    "\n",
    "document = df[\"standardized_text\"]\n",
    "\n",
    "vectorizer.fit(document)\n",
    "\n",
    "# Printing the identified Unique words along with their indices\n",
    "print(\"Vocabulary: \", vectorizer.vocabulary_)\n",
    "\n",
    "# Encode the Document\n",
    "vector = vectorizer.transform(document)\n",
    "\n",
    "# Summarizing the Encoded Texts\n",
    "print(\"Encoded Document is:\")\n",
    "print(vector.toarray())"
   ]
  },
  {
   "cell_type": "markdown",
   "metadata": {},
   "source": [
    "#### Bigrams\n",
    "\n",
    "We could instead [generate bigrams with NLTK (Geeks for Geeks)](https://www.geeksforgeeks.org/generate-bigrams-with-nltk/), and then index these. This could further increase our accuracy for some applications, but is more complex."
   ]
  },
  {
   "cell_type": "code",
   "execution_count": null,
   "metadata": {},
   "outputs": [],
   "source": [
    "from nltk.util import bigrams\n",
    "\n",
    "bigram_list = list(bigrams(df[\"tokens\"].iloc[0]))\n",
    "\n",
    "print(f\"Bigrams for the first document:\")\n",
    "for bigram in bigram_list:\n",
    "    print(bigram)"
   ]
  },
  {
   "cell_type": "markdown",
   "metadata": {},
   "source": [
    "## Conclusion\n",
    "\n",
    "In this exercise you\"ve learned some basics of how to explore, standardize, tokenize, and index words! This is critical to understand how NLP (including Large Language Models) is possible!"
   ]
  }
 ],
 "metadata": {
  "kernelspec": {
   "display_name": ".venv",
   "language": "python",
   "name": "python3"
  },
  "language_info": {
   "codemirror_mode": {
    "name": "ipython",
    "version": 3
   },
   "file_extension": ".py",
   "mimetype": "text/x-python",
   "name": "python",
   "nbconvert_exporter": "python",
   "pygments_lexer": "ipython3",
   "version": "3.10.12"
  }
 },
 "nbformat": 4,
 "nbformat_minor": 2
}

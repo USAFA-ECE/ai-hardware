{
 "cells": [
  {
   "cell_type": "markdown",
   "metadata": {},
   "source": [
    "# What is this horror?\n",
    "\n",
    "*TinyML* Chapter 8 details [feature generation](https://learning.oreilly.com/library/view/tinyml/9781492052036/ch08.html#:-:text=How%20Does%20Feature%20Generation%20Work%3F) and how it is a sliding window of FFT.\n",
    "\n",
    "This is a **great application of a Tensor** and also how the image classification paradigm can be useful.\n",
    "\n",
    "## Errors in chapter code\n",
    "\n",
    "The chapter links to a colab notebook that doesn't exist anymore. Before it was deleted, it was [here](https://github.com/tensorflow/tensorflow/blob/5c7c11eeb4e046cd974e6984f4dd0910d099b2d0/tensorflow/lite/micro/examples/micro_speech/train/train_micro_speech_model.ipynb).\n",
    "The code doesn't work because **TF 1 doesn't run in colab**.\n",
    "\n",
    "## Current example\n",
    "\n",
    "As shown in the previous lesson, the Arduino example works, but I cannot find anything to train a model to use different words.\n",
    "\n",
    "- The model input is 40 x 49 because of how the window slides. This can be changed\n",
    "- I see no indication of a Hann Window being used like the book mentions\n",
    "- Manual normalization does happen\n",
    "\n",
    "### TF simple audio\n",
    "\n",
    "This current tutorial, [Simple audio recognition: Recognizing keywords](https://www.tensorflow.org/tutorials/audio/simple_audio), runs on colab *Have to unpin the libcudnn version to use GPU b/c new TF*.\n",
    "\n",
    "The dimension `Input shape: (124, 129, 1)` gets resized to `32 x 32`. Makes me wonder if I could just resize to 40x49 to match Arduino.\n",
    "Not a power of 2, but then neither is the 28x28 digits set?\n",
    "\n",
    "**I think this is my best bet: train a model with proper input size here and then use cat-dog transfer learning style to binary classify for different words.\n",
    "\n",
    "## Side note \n",
    "\n",
    "[Hugging face TF philosphy on transfer learning](https://huggingface.co/blog/tensorflow-philosophy) is a good read."
   ]
  }
 ],
 "metadata": {
  "language_info": {
   "name": "python"
  },
  "orig_nbformat": 4
 },
 "nbformat": 4,
 "nbformat_minor": 2
}

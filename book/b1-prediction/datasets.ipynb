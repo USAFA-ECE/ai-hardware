{
 "cells": [
  {
   "cell_type": "markdown",
   "metadata": {},
   "source": [
    "# Datasets\n",
    "\n",
    "## Pre-Reading\n",
    "\n",
    "- (Critical) Chollet, [2.1 A first look at a neural network](https://learning.oreilly.com/library/view/deep-learning-with/9781617296864/Text/02.htm#:-:text=2.1%20A%20first%20look%20at%20a%20neural%20network) and [2.2 Data representations for neural networks](https://learning.oreilly.com/library/view/deep-learning-with/9781617296864/Text/02.htm#:-:text=2.2%20Data%20representations%20,for%20neural%20networks)\n",
    "- (Bonus) Stevens, [*Deep Learning with PyTorch*, 5.5.3 Training, validation, and overfitting](https://learning.oreilly.com/library/view/deep-learning-with/9781617295263/Text/05.xhtml#:-:text=5.5.3%20Training%2C%20validation%2C%20and%20overfitting)\n",
    "\n",
    "\n",
    "### Objectives\n",
    "\n",
    "1. Understand how samples in a dataset can be represented as n-rank tensors.\n",
    "2. Distinguish between the functions of train, test, and validation set splits.\n",
    "3. List some popular platforms for dataset hosting."
   ]
  },
  {
   "cell_type": "markdown",
   "metadata": {},
   "source": []
  }
 ],
 "metadata": {
  "language_info": {
   "name": "python"
  }
 },
 "nbformat": 4,
 "nbformat_minor": 2
}

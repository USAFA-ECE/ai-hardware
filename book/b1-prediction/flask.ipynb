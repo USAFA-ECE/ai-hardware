{
 "cells": [
  {
   "cell_type": "markdown",
   "metadata": {},
   "source": [
    "# Lab: Serving Digits with Flask\n",
    "\n",
    "Previously we made a model. Now it's time to serve it so others can use it!\n",
    "\n",
    "## Pre-reading\n",
    "\n",
    "- IBM's [What is an API (application programming interface)?](https://www.ibm.com/topics/api)"
   ]
  },
  {
   "cell_type": "markdown",
   "metadata": {},
   "source": [
    "## Colab Demo\n",
    "\n",
    "This exercise simply demonstrates how to serve a flask app in Google Colab.\n",
    "\n",
    "### Get a terminal\n",
    "\n",
    "First, we install [colab-xterm](https://github.com/InfuseAI/colab-xterm), which allows us to have an interactive terminal.\n",
    "We will need this to run the flask process, since normally colab runs a process and then kills it."
   ]
  },
  {
   "cell_type": "code",
   "execution_count": null,
   "metadata": {
    "vscode": {
     "languageId": "plaintext"
    }
   },
   "outputs": [],
   "source": [
    "!pip install -q colab-xterm\n",
    "%load_ext colabxterm"
   ]
  },
  {
   "cell_type": "code",
   "execution_count": null,
   "metadata": {
    "vscode": {
     "languageId": "plaintext"
    }
   },
   "outputs": [],
   "source": [
    "%xterm"
   ]
  },
  {
   "cell_type": "markdown",
   "metadata": {},
   "source": [
    "You should now have an interactive terminal! Run a command in it, such as\n",
    "\n",
    "```bash\n",
    "pwd\n",
    "```\n",
    "\n",
    "### Create python script\n",
    "\n",
    "Next we will create the python file. Run the command\n",
    "\n",
    "```bash\n",
    "vim server.py\n",
    "```\n",
    "\n",
    "Vim is a ubiquitous text editor in linux systems. Enter insert mode by pressing the **i** key.\n",
    "Then paste in this code:\n",
    "\n",
    "```python\n",
    "from flask import Flask\n",
    "\n",
    "app = Flask(__name__)\n",
    "\n",
    "@app.route('/')\n",
    "def hello_world():\n",
    "    return 'Hello, World!'\n",
    "\n",
    "if __name__ == '__main__':\n",
    "    app.run(host='0.0.0.0', port=8890)\n",
    "\n",
    "```\n",
    "\n",
    "Figure out [how to exit Vim](https://trends.google.com/trends/explore?date=today%205-y&q=how%20to%20exit%20vim&hl=en).\n",
    "\n",
    "Once you exit the file, you can make sure you saved it properly with\n",
    "\n",
    "```bash\n",
    "cat server.py\n",
    "```\n",
    "\n",
    "### Run the script\n",
    "\n",
    "In production, you would query a domain and [DNS](https://www.cloudflare.com/learning/dns/what-is-dns/) would resolve that to an IP address. But since we are just doing testing, simply look at what your IP address is with this command:\n",
    "\n",
    "```bash\n",
    "ip a\n",
    "```\n",
    "\n",
    "It shows a loopback at `127.0.0.1` (this is a reserved address and *always* means \"myself\").\n",
    "You will also see an eth0 address that probably starts with `172.`. This subnet is reserved for local networks.\n",
    "In production, this would be a public IP address, but this will work for now... we are just going to talk to ourselves.\n",
    "\n",
    "Run the script!\n",
    "\n",
    "```bash\n",
    "python server.py\n",
    "```\n",
    "\n",
    "You should see something starting like:\n",
    "\n",
    "> * Serving Flask app 'server'\n",
    "> ...\n",
    "> Press CTRL+C to quit\n",
    "\n",
    "Notice that the app accepts incoming connections on both IP interfaces.\n",
    "\n",
    "### Hit the API\n",
    "\n",
    "Now it's time to connect to the API endpoint and see what we get!\n",
    "\n",
    "Down the road we'll do this with Python, but for our quick test, just run the below cell."
   ]
  },
  {
   "cell_type": "code",
   "execution_count": null,
   "metadata": {
    "vscode": {
     "languageId": "plaintext"
    }
   },
   "outputs": [],
   "source": [
    "!curl 127.0.0.1:8890/"
   ]
  },
  {
   "cell_type": "markdown",
   "metadata": {},
   "source": [
    "You should see a glorious **Hello, World!** returned!\n",
    "\n",
    "Back in your terminal, you should also see a \"GET\" request from yourself that was answered with a \"200 OK\" status code.\n",
    "You don't need to go in-depth on [HTTP response status codes](https://developer.mozilla.org/en-US/docs/Web/HTTP/Status/418), but\n",
    "\n",
    "- 100s for info\n",
    "- 200s for success\n",
    "- 300s for redirect\n",
    "- 400s for client error\n",
    "- 500s for server error\n",
    "\n",
    "So a \"404 Not Found\" error is your fault, as the client, because you requested something that doesn't exist!"
   ]
  },
  {
   "cell_type": "markdown",
   "metadata": {},
   "source": [
    "## Lab\n",
    "\n",
    "For this lab, you must do the following:\n",
    "\n"
   ]
  }
 ],
 "metadata": {
  "language_info": {
   "name": "python"
  }
 },
 "nbformat": 4,
 "nbformat_minor": 2
}

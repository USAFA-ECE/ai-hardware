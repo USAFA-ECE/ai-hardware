{
 "cells": [
  {
   "cell_type": "markdown",
   "metadata": {},
   "source": [
    "# Lab: Handwritten Digits - FastAPI\n",
    "\n",
    "This is part 2 of the lab.\n",
    "\n",
    "Previously we made a model. Now it's time to serve it so others can use it!"
   ]
  },
  {
   "cell_type": "markdown",
   "metadata": {},
   "source": [
    "## Pre-lab\n",
    "\n",
    "For this lab, you will serve your previously trained MNIST digits model.\n",
    "\n",
    "1. Make your own copy of the template repository: [https://github.com/USAFA-ECE/ece386-lab01](https://github.com/USAFA-ECE/ece386-lab01)\n",
    "2. Commit your Keras neural network model for predicting digits into `server/digits.keras`\n",
    "3. Make four images of different handwritten digits and place them into `client/img/`"
   ]
  },
  {
   "cell_type": "markdown",
   "metadata": {},
   "source": [
    "## Lab\n",
    "\n",
    "This lab will require significant self-learning! You'll absolutely need to spend time reading documentation.\n",
    "\n",
    "Large Language Models (such as ChatGPT or Claude) are authorized for clarifying questions and how to do very specific things, *but* you cannot ask for a large chunk of the program. Furthermore, you **must document in the README by:**\n",
    "1. Stating  your  primary query AND\n",
    "2. Providing a link to the entire conversation.\n",
    "\n",
    "> For example, this is ok:\n",
    "> \"Write a demo FastAPI POST that can accepts an image and explain each line.\"\n",
    ">\n",
    "> But this is **not** ok:\n",
    "> \"Write a FastAPI app with a POST method that feeds an image into a Keras model.\"\n",
    ">\n",
    "> *Disclaimer*, I entered both of those prompts into ChatGPT and neither one was very good!\n",
    "> You really, really, need to be careful taking code from LLMs.\n",
    "> A better approach might be \"I have this simple FastAPI method, but am new to using the package.\n",
    "> Can you help explain and critique it for me?\"\n",
    "\n",
    "```{note}\n",
    "You should do your development and testing on a single local machine, and then deploy to the server.\n",
    "```\n",
    "\n",
    "### Server\n",
    "\n",
    "You will use a Raspberry Pi as your server.\n",
    "All the code for the server will be located in the `server/` directory of your repository.\n",
    "\n",
    "1. Clone your repository.\n",
    "2. Create a virtual environment on a Raspberry Pi.\n",
    "3. Use `server/requirements.txt` to install packages.\n",
    "4. Serve the model with `fastapi run digits.py`\n",
    "\n",
    "The app should simply:\n",
    "\n",
    "- Open the previously saved Keras model.\n",
    "- Accept a POST request to `/predict`.\n",
    "- Reshape and grayscale the image to work with the model's input expectations.\n",
    "- Conduct inference on the image and return an integer of the predicted class.\n",
    "\n",
    "### Client\n",
    "\n",
    "For your client, you can use any machine with Python and on the same network as the Pi.\n",
    "All the code for the client will be in the `client` directory of your repository.\n",
    "\n",
    "1. Clone your repository.\n",
    "2. Create a virtual environment on your client.\n",
    "3. Use `client/requirements.txt` to install packages.\n",
    "4. Run `client.py \"xxx.xxx.xxx.xxx\"`, where the X's are the IP address of the server.\n",
    "5. `client.py` prompts the user for a path to an image. After hitting \"enter\" the client makes an HTTP POST request to the server, waits for the response, then displays the integer to the user.\n",
    "6. The client continues to prompt the user until the user exits with CTRL+C.\n",
    "\n",
    "```{tip}\n",
    "The [requests](https://requests.readthedocs.io/en/latest/) package is easier to use than the built-in urllib.\n",
    "```\n",
    "\n",
    "### Deliverables\n",
    "\n",
    "- Demonstrate your client-server exchange.\n",
    "- Complete the three README's in the repository (root, client, server).\n",
    "- Push your code and submit to Gradescope."
   ]
  }
 ],
 "metadata": {
  "kernelspec": {
   "display_name": ".venv",
   "language": "python",
   "name": "python3"
  },
  "language_info": {
   "codemirror_mode": {
    "name": "ipython",
    "version": 3
   },
   "file_extension": ".py",
   "mimetype": "text/x-python",
   "name": "python",
   "nbconvert_exporter": "python",
   "pygments_lexer": "ipython3",
   "version": "3.10.12"
  }
 },
 "nbformat": 4,
 "nbformat_minor": 2
}

{
 "cells": [
  {
   "attachments": {},
   "cell_type": "markdown",
   "id": "6dbad637",
   "metadata": {},
   "source": [
    "# Neural Networks\n",
    "\n",
    "This notebook demonstrates the building and training of a deep neural network (DNN) for digit classification using the `load_digits` dataset from scikit-learn. The DNN is built using TensorFlow's Keras API.\n",
    "\n",
    "## Pre-Reading\n",
    "\n",
    "- Chollet, [2.1 A first look at a neural network](https://learning.oreilly.com/library/view/deep-learning-with/9781617296864/Text/02.htm#:-:text=2.1%20A%20first%20look%20at%20a%20neural%20network)\n",
    "- Video [3Blue1Brown: But what is a neural network?](https://www.youtube.com/watch?v=aircAruvnKk)\n",
    "\n",
    "### Objectives\n",
    "\n",
    "- Understand the types of layers in a Neural Network and how they can be modified.\n",
    "- Describe TensorFlow and Keras at a conceptual level\n",
    "\n",
    "This notebook is a modification of\n",
    "https://github.com/fchollet/deep-learning-with-python-notebooks/blob/master/chapter02_mathematical-building-blocks.ipynb "
   ]
  },
  {
   "attachments": {},
   "cell_type": "markdown",
   "id": "40e65364",
   "metadata": {},
   "source": [
    "## Make the model\n",
    "\n",
    "### Load and Preprocess the Data\n",
    "\n",
    "We will use the same handwritten digits dataset we used with K-Means.\n",
    "\n",
    "The MNIST dataset comes preloaded in Keras, in the form of a set of four NumPy arrays.\n"
   ]
  },
  {
   "cell_type": "code",
   "execution_count": null,
   "id": "18566275",
   "metadata": {},
   "outputs": [],
   "source": [
    "from tensorflow.keras.datasets import mnist\n",
    "\n",
    "(train_images, train_labels), (test_images, test_labels) = mnist.load_data()"
   ]
  },
  {
   "attachments": {},
   "cell_type": "markdown",
   "id": "ba724a2d",
   "metadata": {},
   "source": [
    "### Train and Test Sets\n",
    "\n",
    "For now, we'll split our images into two sets:\n",
    "\n",
    "- **train** is the set we will fit the model to\n",
    "- **test** is the set we will evaluate the model against\n",
    "\n",
    "The included MNIST dataset is already broken into train and test for us.\n",
    "\n",
    "In later exercises we will also include a *validation set* will help determine if the model generalizes well, or if it is just overfitting to the data we are using."
   ]
  },
  {
   "cell_type": "code",
   "execution_count": null,
   "id": "0584549e",
   "metadata": {},
   "outputs": [],
   "source": [
    "train_images.shape"
   ]
  },
  {
   "cell_type": "code",
   "execution_count": null,
   "id": "02444bb2",
   "metadata": {},
   "outputs": [],
   "source": [
    "len(train_labels)"
   ]
  },
  {
   "cell_type": "code",
   "execution_count": null,
   "id": "23d1c541",
   "metadata": {},
   "outputs": [],
   "source": [
    "train_labels"
   ]
  },
  {
   "cell_type": "code",
   "execution_count": null,
   "id": "58c3c834",
   "metadata": {},
   "outputs": [],
   "source": [
    "len(test_labels)"
   ]
  },
  {
   "cell_type": "code",
   "execution_count": null,
   "id": "239b6f0b",
   "metadata": {},
   "outputs": [],
   "source": [
    "test_labels"
   ]
  },
  {
   "attachments": {},
   "cell_type": "markdown",
   "id": "8bf8b9b8",
   "metadata": {},
   "source": [
    "### Build the Deep Neural Network\n",
    "\n",
    "Let’s build the network—again, remember that you aren’t expected to understand everything about this example yet.\n",
    "Layers get added into the model one at a time (sequential).\n",
    "\n",
    "The core building block of neural networks is the layer. You can think of a layer as a filter for data: some data goes in, and it comes out in a more useful form.\n",
    "\n",
    "The number and size of the hidden layers are arbitrarily chosen here...\n",
    "this is one of the greatest challenges in DNN.\n",
    "\n",
    "We'll use ReLU (Rectified Linear Unit) in a densely connected layer as the activation function. The output is `max(x, 0)`.\n",
    "\n",
    "Finally, Softmax converts a vector of K real numbers into a probability distribution of K possible outcomes.\n",
    "The sum of these probabilities equals 1. We will assign our sample to the class with the highest probability."
   ]
  },
  {
   "cell_type": "code",
   "execution_count": 19,
   "id": "315374eb",
   "metadata": {},
   "outputs": [],
   "source": [
    "from tensorflow import keras\n",
    "from tensorflow.keras import layers\n",
    "\n",
    "model = keras.Sequential(\n",
    "    [layers.Dense(512, activation=\"relu\"), layers.Dense(10, activation=\"softmax\")]\n",
    ")"
   ]
  },
  {
   "attachments": {},
   "cell_type": "markdown",
   "id": "a8d99f26",
   "metadata": {},
   "source": [
    "### Compile the Model\n",
    "\n",
    "To make the model ready for training, we need to pick three more things as part of the compilation step:\n",
    "\n",
    "- *Optimizer:* The mechanism through which the model will update itself based on the training data it sees, so as to improve its performance.\n",
    "- *Loss function*: How the model will be able to measure its performance on the training data, and thus how it will be able to steer itself in the right direction.\n",
    "- *Metrics*: to monitor during training and testing—Here, we’ll only care about accuracy (the fraction of the images that were correctly classified).\n",
    "\n",
    "Keras provides the [compile](https://keras.io/api/models/model_training_apis/) API which does A LOT of stuff under the hood."
   ]
  },
  {
   "cell_type": "code",
   "execution_count": 20,
   "id": "a67281a3",
   "metadata": {},
   "outputs": [],
   "source": [
    "model.compile(\n",
    "    optimizer=\"rmsprop\", loss=\"sparse_categorical_crossentropy\", metrics=[\"accuracy\"]\n",
    ")"
   ]
  },
  {
   "attachments": {},
   "cell_type": "markdown",
   "id": "54774aa7",
   "metadata": {},
   "source": [
    "#### Visualize the Model\n",
    "\n",
    "We can print a summary of the model as well as a graphical represnetation.\n",
    "\n",
    "We should always do this [for a few reasons:](https://machinelearningmastery.com/visualize-deep-learning-neural-network-model-keras/)\n",
    "\n",
    "- **Confirm layer order**. It is easy to add layers in the wrong order with the sequential API or to connect them together incorrectly with the functional API. The graph plot can help you confirm that the model is connected the way you intended.\n",
    "- **Confirm the output shape of each layer**. It is common to have problems when defining the shape of input data for complex networks like convolutional and recurrent neural networks. The summary and plot can help you confirm the input shape to the network is as you intended.\n",
    "- **Confirm parameters**. Some network configurations can use far fewer parameters, such as the use of a TimeDistributed wrapped Dense layer in an Encoder-Decoder recurrent neural network. Reviewing the summary can help spot cases of using far more parameters than expected.\n",
    "\n",
    "Our \"Output Shape\" is unknown because we didn't specify an Input Layer. Instead, we need to transform our data.\n"
   ]
  },
  {
   "cell_type": "code",
   "execution_count": null,
   "id": "85beb063",
   "metadata": {},
   "outputs": [],
   "source": [
    "# You should ALWAYS run this after compile\n",
    "model.summary()"
   ]
  },
  {
   "attachments": {},
   "cell_type": "markdown",
   "id": "2298415e",
   "metadata": {},
   "source": [
    "## Train the model\n",
    "\n",
    "### Transform Data\n",
    "\n",
    "Before training, we’ll preprocess the data by reshaping it into the shape the model expects and scaling it so that all values are in the [0, 1] interval. Previously, our training images were stored in an array of shape (60000, 28, 28) of type uint8 with values in the [0, 255] interval. We’ll transform it into a float32 array of shape (60000, 28 * 28) with values between 0 and 1.\n",
    "\n",
    "### Fit model\n",
    "\n",
    "This method trains the model for a fixed number of ephochs (dataset iterations)."
   ]
  },
  {
   "cell_type": "code",
   "execution_count": 22,
   "id": "e91d32da",
   "metadata": {},
   "outputs": [],
   "source": [
    "# Recall that train_image.\n",
    "train_images = train_images.reshape((60000, 28 * 28))\n",
    "train_images = train_images.astype(\"float32\") / 255\n",
    "test_images = test_images.reshape((10000, 28 * 28))\n",
    "test_images = test_images.astype(\"float32\") / 255"
   ]
  },
  {
   "cell_type": "markdown",
   "id": "087ac955",
   "metadata": {},
   "source": [
    "Keras offers a [fit](https://keras.io/api/models/model_training_apis/) API that will automatically train the model on our data for a set number of epochs.\n",
    "\n",
    "Two quantities are displayed during training: the loss of the model over the training data, and the accuracy of the model over the training data. We quickly reach an accuracy of 0.989 (98.9%) on the training data.\n"
   ]
  },
  {
   "cell_type": "code",
   "execution_count": null,
   "id": "f2e709ec",
   "metadata": {},
   "outputs": [],
   "source": [
    "model.fit(train_images, train_labels, epochs=5, batch_size=128)"
   ]
  },
  {
   "attachments": {},
   "cell_type": "markdown",
   "id": "adb0bda4",
   "metadata": {},
   "source": [
    "## Make a Prediction\n",
    "\n",
    "Finally, we can evaluate the accuracy of the trained model on the validation set.\n",
    "\n",
    "Now that we have a trained model, we can use it to predict class probabilities for new digits—images that weren’t part of the training data, like those from the test set."
   ]
  },
  {
   "cell_type": "code",
   "execution_count": null,
   "id": "5a40a38f",
   "metadata": {},
   "outputs": [],
   "source": [
    "# Grab the first 10 samples from the test dataset\n",
    "test_digits = test_images[0:10]\n",
    "# Make predictions\n",
    "predictions = model.predict(test_digits)\n",
    "print(predictions[0])"
   ]
  },
  {
   "cell_type": "markdown",
   "id": "d9a1cd97",
   "metadata": {},
   "source": [
    "This first test digit has the highest probability score (0.99999106, almost 1) at index 7, so according to our model, it must be a 7:"
   ]
  },
  {
   "cell_type": "code",
   "execution_count": null,
   "id": "0c86afef",
   "metadata": {},
   "outputs": [],
   "source": [
    "highest_prediction_index = predictions[0].argmax()\n",
    "print(\n",
    "    \"Index of highest probability:\",\n",
    "    highest_prediction_index,\n",
    "    \"with probability:\",\n",
    "    predictions[0][highest_prediction_index],\n",
    ")"
   ]
  },
  {
   "cell_type": "markdown",
   "id": "3006dc98",
   "metadata": {},
   "source": [
    "We can check that the test label agrees:"
   ]
  },
  {
   "cell_type": "code",
   "execution_count": null,
   "id": "e4136f71",
   "metadata": {},
   "outputs": [],
   "source": [
    "test_labels[0]"
   ]
  },
  {
   "cell_type": "markdown",
   "id": "13d461e7",
   "metadata": {},
   "source": [
    "On average, how good is our model at classifying such never-before-seen digits? Let’s check by computing average accuracy over the entire test set.\n",
    "\n",
    "The test-set accuracy turns out to be 97.8%—that’s quite a bit lower than the training-set accuracy (98.9%). This gap between training accuracy and test accuracy is an example of *overfitting*: the fact that machine learning models tend to perform worse on new data than on their training data. We will address overfitting later."
   ]
  },
  {
   "cell_type": "code",
   "execution_count": null,
   "id": "60c90200",
   "metadata": {},
   "outputs": [],
   "source": [
    "test_loss, test_acc = model.evaluate(test_images, test_labels)\n",
    "print(f\"test_acc: {test_acc}\")"
   ]
  }
 ],
 "metadata": {
  "kernelspec": {
   "display_name": ".venv",
   "language": "python",
   "name": "python3"
  },
  "language_info": {
   "codemirror_mode": {
    "name": "ipython",
    "version": 3
   },
   "file_extension": ".py",
   "mimetype": "text/x-python",
   "name": "python",
   "nbconvert_exporter": "python",
   "pygments_lexer": "ipython3",
   "version": "3.10.12"
  }
 },
 "nbformat": 4,
 "nbformat_minor": 5
}

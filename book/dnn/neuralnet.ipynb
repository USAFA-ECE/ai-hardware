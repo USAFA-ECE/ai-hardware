# 07 - Neural Networks

## Pre-Reading

- Video [3Blue1Brown: But what is a neural network?](https://www.youtube.com/watch?v=aircAruvnKk)
- [Keras: The high-level API for TensorFlow](https://www.tensorflow.org/guide/keras)

### Objectives

- Understand the types of layers in a Neural Network and how they can be modified.
- Describe TensorFlow and Keras at a conceptual level

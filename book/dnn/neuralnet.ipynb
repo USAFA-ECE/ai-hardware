{
 "cells": [
  {
   "attachments": {},
   "cell_type": "markdown",
   "id": "6dbad637",
   "metadata": {},
   "source": [
    "# Neural Networks\n",
    "\n",
    "This notebook demonstrates the building and training of a deep neural network (DNN) for digit classification using the `load_digits` dataset from scikit-learn. The DNN is built using TensorFlow's Keras API.\n",
    "\n",
    "## Pre-Reading\n",
    "\n",
    "- Video [3Blue1Brown: But what is a neural network?](https://www.youtube.com/watch?v=aircAruvnKk)\n",
    "- [Keras README](https://github.com/keras-team/keras)\n",
    "\n",
    "### Objectives\n",
    "\n",
    "- Understand the types of layers in a Neural Network and how they can be modified.\n",
    "- Describe TensorFlow and Keras at a conceptual level"
   ]
  },
  {
   "attachments": {},
   "cell_type": "markdown",
   "id": "40e65364",
   "metadata": {},
   "source": [
    "## Load and Preprocess the Data\n",
    "\n",
    "We will use the same handwritten digits dataset we used with K-Means.\n",
    "As such, we can skip some of the exploration and visualization of the data.\n",
    "\n",
    "Let's jump right in.\n",
    "Load and preprocess the dataset exactly like we did in the previous lab."
   ]
  },
  {
   "cell_type": "code",
   "execution_count": null,
   "id": "18566275",
   "metadata": {},
   "outputs": [],
   "source": [
    "import numpy as np\n",
    "from sklearn.datasets import load_digits\n",
    "\n",
    "# Load the dataset\n",
    "data, labels = load_digits(return_X_y=True)\n",
    "(n_samples, n_features), n_digits = data.shape, np.unique(labels).size\n",
    "\n",
    "print(f\"# digits: {n_digits}; # samples: {n_samples}; # features {n_features}\")"
   ]
  },
  {
   "attachments": {},
   "cell_type": "markdown",
   "id": "ba724a2d",
   "metadata": {},
   "source": [
    "### Train, Test, and Validation Sets\n",
    "\n",
    "Deep learning comes with a host of challenges. One of them is overfitting.\n",
    "\n",
    "To combat this - and for other reasons - we'll split our images into three sets:\n",
    "\n",
    "- **train** is the set we will fit the model to\n",
    "- **test** is the set we will evaluate the model against\n",
    "- **validate** will help determine if the model generalizes well, or is just being matched to test/train\n",
    "\n",
    "A reasonable starting breakdown is:\n",
    "\n",
    "- 20% test\n",
    "- 60% train\n",
    "- 20% validate"
   ]
  },
  {
   "cell_type": "code",
   "execution_count": null,
   "id": "bdb8ac00",
   "metadata": {},
   "outputs": [],
   "source": [
    "from sklearn.model_selection import train_test_split\n",
    "\n",
    "# Split the data into train, test, and validation sets\n",
    "X_train, X_test, y_train, y_test = train_test_split(\n",
    "    data, labels, test_size=0.2, random_state=42\n",
    ")\n",
    "X_train, X_val, y_train, y_val = train_test_split(\n",
    "    X_train, y_train, test_size=0.25, random_state=42\n",
    ")\n",
    "\n",
    "# Normalize the data\n",
    "X_train = X_train / 16.0\n",
    "X_test = X_test / 16.0\n",
    "X_val = X_val / 16.0"
   ]
  },
  {
   "attachments": {},
   "cell_type": "markdown",
   "id": "8bf8b9b8",
   "metadata": {},
   "source": [
    "## Build the Deep Neural Network\n",
    "\n",
    "Next, let's build the DNN model with a single dropout layer.\n",
    "\n",
    "Layers get added into the model one at a time (sequential).\n",
    "\n",
    "Notice that the first layer matches the number of features from our dataset.\n",
    "\n",
    "The number and size of the hidden layers are arbitarily chosen here...\n",
    "this is one of the greatest challenges in DNN.\n",
    "\n",
    "We'll use ReLU (Rectified Linear Unit) as the activation function. The output is `max(x, 0)`.\n",
    "\n",
    "The [Dropout](https://keras.io/api/layers/regularization_layers/dropout/)\n",
    "layer randomly sets input units to 0 with a frequency of rate at each step during training time, which helps prevent overfitting.\n",
    "Yes, randomly throwing data away somehow helps.\n",
    "\n",
    "Finally, Softmax converts a vector of K real numbers into a probability distribution of K possible outcomes.\n",
    "The sum of these probabilities equals 1. We will assign our sample to the class with the highest probability."
   ]
  },
  {
   "cell_type": "code",
   "execution_count": null,
   "id": "315374eb",
   "metadata": {},
   "outputs": [],
   "source": [
    "import tensorflow as tf\n",
    "from tensorflow.keras.models import Sequential\n",
    "from tensorflow.keras.layers import Dense, Dropout\n",
    "\n",
    "# Build the DNN model with a single dropout layer\n",
    "model = Sequential()\n",
    "model.add(Dense(64, activation=\"relu\", input_shape=(n_features,)))\n",
    "model.add(Dense(64, activation=\"relu\"))\n",
    "model.add(Dense(64, activation=\"relu\"))\n",
    "model.add(Dropout(0.2))  # Dropout regularization with 20% dropout rate\n",
    "model.add(Dense(10, activation=\"softmax\"))"
   ]
  },
  {
   "attachments": {},
   "cell_type": "markdown",
   "id": "a8d99f26",
   "metadata": {},
   "source": [
    "## Compile and Train the Model\n",
    "\n",
    "After building the model, we need to compile it with an optimizer, loss function, and metrics. Then, we can train the model on the training set.\n",
    "\n",
    "Keras provides the [compile](https://keras.io/api/models/model_training_apis/) API which does A LOT of stuff under the hood.\n",
    "\n",
    "For example, you can pick an optimizer. [Adam](https://www.tensorflow.org/api_docs/python/tf/keras/optimizers/Adam) is a popular\n",
    "optimizer; it is a \"stochastic gradient descent method.\"    "
   ]
  },
  {
   "cell_type": "code",
   "execution_count": null,
   "id": "a67281a3",
   "metadata": {},
   "outputs": [],
   "source": [
    "# Compile the model\n",
    "model.compile(\n",
    "    optimizer=\"adam\", loss=\"sparse_categorical_crossentropy\", metrics=[\"accuracy\"]\n",
    ")"
   ]
  },
  {
   "attachments": {},
   "cell_type": "markdown",
   "id": "54774aa7",
   "metadata": {},
   "source": [
    "### Visualize the Model\n",
    "\n",
    "We can print a summary of the model as well as a graphical represnetation.\n",
    "\n",
    "We should always do this [for a few reasons:](https://machinelearningmastery.com/visualize-deep-learning-neural-network-model-keras/)\n",
    "\n",
    "- **Confirm layer order**. It is easy to add layers in the wrong order with the sequential API or to connect them together incorrectly with the functional API. The graph plot can help you confirm that the model is connected the way you intended.\n",
    "- **Confirm the output shape of each layer**. It is common to have problems when defining the shape of input data for complex networks like convolutional and recurrent neural networks. The summary and plot can help you confirm the input shape to the network is as you intended.\n",
    "- **Confirm parameters**. Some network configurations can use far fewer parameters, such as the use of a TimeDistributed wrapped Dense layer in an Encoder-Decoder recurrent neural network. Reviewing the summary can help spot cases of using far more parameters than expected.\n"
   ]
  },
  {
   "cell_type": "code",
   "execution_count": null,
   "id": "85beb063",
   "metadata": {},
   "outputs": [],
   "source": [
    "# You should ALWAYS run this after compile\n",
    "model.summary()"
   ]
  },
  {
   "cell_type": "code",
   "execution_count": null,
   "id": "06631970",
   "metadata": {},
   "outputs": [],
   "source": [
    "# Required for plot_model()\n",
    "# plot_model() returns an image, instead of text\n",
    "%pip install pydot\n",
    "!apt install graphviz -y"
   ]
  },
  {
   "cell_type": "code",
   "execution_count": null,
   "id": "ef757fee",
   "metadata": {},
   "outputs": [],
   "source": [
    "from keras.utils.vis_utils import plot_model\n",
    "\n",
    "# This is sometimes worth running, if you have the dependencies installed\n",
    "plot_model(\n",
    "    model,\n",
    "    \"plot_model.png\",\n",
    "    show_shapes=True,\n",
    "    show_layer_names=True,\n",
    "    show_layer_activations=True,\n",
    "    show_dtype=True,\n",
    ")"
   ]
  },
  {
   "attachments": {},
   "cell_type": "markdown",
   "id": "2298415e",
   "metadata": {},
   "source": [
    "### Train the model\n",
    "\n",
    "Keras also offers a [fit](https://keras.io/api/models/model_training_apis/) API.\n",
    "\n",
    "This method trains the model for a fixed number of ephochs (dataset iterations)."
   ]
  },
  {
   "cell_type": "code",
   "execution_count": null,
   "id": "f2e709ec",
   "metadata": {},
   "outputs": [],
   "source": [
    "# Fit the model\n",
    "model.fit(X_train, y_train, epochs=10, batch_size=32, validation_data=(X_val, y_val))"
   ]
  },
  {
   "attachments": {},
   "cell_type": "markdown",
   "id": "adb0bda4",
   "metadata": {},
   "source": [
    "## Evaluate the Model\n",
    "\n",
    "Finally, we can evaluate the accuracy of the trained model on the validation set.\n",
    "\n",
    "You guessed it: [Keras API](https://keras.io/api/models/model_training_apis/).\n",
    "Returns the loss value & metrics values for the model in test mode.\n",
    "\n",
    "There is also a predict method that conducts inference on unknown samples."
   ]
  },
  {
   "cell_type": "code",
   "execution_count": null,
   "id": "5a40a38f",
   "metadata": {},
   "outputs": [],
   "source": [
    "# Evaluate accuracy on the validation set\n",
    "_, accuracy = model.evaluate(X_val, y_val)\n",
    "print(\"Validation Accuracy:\", accuracy)"
   ]
  },
  {
   "attachments": {},
   "cell_type": "markdown",
   "id": "f3828324",
   "metadata": {},
   "source": [
    "## Go further (optional)\n",
    "\n",
    "Can you improve Validation Accuracy?\n",
    "\n",
    "Try some of the following\n",
    "\n",
    "- Adjust the number or size of hidden layers\n",
    "- Use [data augmentation](https://www.tensorflow.org/tutorials/images/data_augmentation) to increase your training set"
   ]
  }
 ],
 "metadata": {
  "kernelspec": {
   "display_name": ".venv",
   "language": "python",
   "name": "python3"
  },
  "language_info": {
   "codemirror_mode": {
    "name": "ipython",
    "version": 3
   },
   "file_extension": ".py",
   "mimetype": "text/x-python",
   "name": "python",
   "nbconvert_exporter": "python",
   "pygments_lexer": "ipython3",
   "version": "3.10.6"
  }
 },
 "nbformat": 4,
 "nbformat_minor": 5
}

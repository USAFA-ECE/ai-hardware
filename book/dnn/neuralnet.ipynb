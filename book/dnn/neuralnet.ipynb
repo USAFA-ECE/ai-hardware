{
 "cells": [
  {
   "attachments": {},
   "cell_type": "markdown",
   "id": "6dbad637",
   "metadata": {},
   "source": [
    "# Neural Networks\n",
    "\n",
    "This notebook demonstrates the building and training of a deep neural network (DNN) for digit classification using the `load_digits` dataset from scikit-learn. The DNN is built using TensorFlow's Keras API.\n",
    "\n",
    "## Pre-Reading\n",
    "\n",
    "- Video [3Blue1Brown: But what is a neural network?](https://www.youtube.com/watch?v=aircAruvnKk)\n",
    "- [Keras: The high-level API for TensorFlow](https://www.tensorflow.org/guide/keras)\n",
    "\n",
    "### Objectives\n",
    "\n",
    "- Understand the types of layers in a Neural Network and how they can be modified.\n",
    "- Describe TensorFlow and Keras at a conceptual level"
   ]
  },
  {
   "attachments": {},
   "cell_type": "markdown",
   "id": "40e65364",
   "metadata": {},
   "source": [
    "## Load and Preprocess the Data\n",
    "\n",
    "First, let's load and preprocess the dataset."
   ]
  },
  {
   "cell_type": "code",
   "execution_count": null,
   "id": "18566275",
   "metadata": {},
   "outputs": [],
   "source": [
    "import numpy as np\n",
    "from sklearn.datasets import load_digits\n",
    "from sklearn.model_selection import train_test_split\n",
    "\n",
    "# Load the dataset\n",
    "data, labels = load_digits(return_X_y=True)\n",
    "(n_samples, n_features), n_digits = data.shape, np.unique(labels).size\n",
    "\n",
    "print(f\"# digits: {n_digits}; # samples: {n_samples}; # features {n_features}\")"
   ]
  },
  {
   "attachments": {},
   "cell_type": "markdown",
   "id": "ba724a2d",
   "metadata": {},
   "source": [
    "### Train, Test, and Validation Sets"
   ]
  },
  {
   "cell_type": "code",
   "execution_count": null,
   "id": "bdb8ac00",
   "metadata": {},
   "outputs": [],
   "source": [
    "# Split the data into train, test, and validation sets\n",
    "X_train, X_test, y_train, y_test = train_test_split(\n",
    "    data, labels, test_size=0.2, random_state=42\n",
    ")\n",
    "X_train, X_val, y_train, y_val = train_test_split(\n",
    "    X_train, y_train, test_size=0.25, random_state=42\n",
    ")\n",
    "\n",
    "# Normalize the data\n",
    "X_train = X_train / 16.0\n",
    "X_test = X_test / 16.0\n",
    "X_val = X_val / 16.0"
   ]
  },
  {
   "attachments": {},
   "cell_type": "markdown",
   "id": "8bf8b9b8",
   "metadata": {},
   "source": [
    "## Build the Deep Neural Network\n",
    "\n",
    "Next, let's build the DNN model with a single dropout layer."
   ]
  },
  {
   "cell_type": "code",
   "execution_count": null,
   "id": "315374eb",
   "metadata": {},
   "outputs": [],
   "source": [
    "import tensorflow as tf\n",
    "from tensorflow.keras.models import Sequential\n",
    "from tensorflow.keras.layers import Dense, Dropout\n",
    "\n",
    "# Build the DNN model with a single dropout layer\n",
    "model = Sequential()\n",
    "model.add(Dense(64, activation=\"relu\", input_shape=(n_features,)))\n",
    "model.add(Dense(64, activation=\"relu\"))\n",
    "model.add(Dense(64, activation=\"relu\"))\n",
    "model.add(Dropout(0.2))  # Dropout regularization with 20% dropout rate\n",
    "model.add(Dense(10, activation=\"softmax\"))"
   ]
  },
  {
   "attachments": {},
   "cell_type": "markdown",
   "id": "a8d99f26",
   "metadata": {},
   "source": [
    "## Compile and Train the Model\n",
    "\n",
    "After building the model, we need to compile it with an optimizer, loss function, and metrics. Then, we can train the model on the training set."
   ]
  },
  {
   "cell_type": "code",
   "execution_count": null,
   "id": "a67281a3",
   "metadata": {},
   "outputs": [],
   "source": [
    "# Compile the model\n",
    "model.compile(\n",
    "    optimizer=\"adam\", loss=\"sparse_categorical_crossentropy\", metrics=[\"accuracy\"]\n",
    ")\n",
    "\n",
    "# Fit the model\n",
    "model.fit(X_train, y_train, epochs=10, batch_size=32, validation_data=(X_val, y_val))"
   ]
  },
  {
   "attachments": {},
   "cell_type": "markdown",
   "id": "adb0bda4",
   "metadata": {},
   "source": [
    "## Evaluate the Model\n",
    "\n",
    "Finally, we can evaluate the accuracy of the trained model on the validation set."
   ]
  },
  {
   "cell_type": "code",
   "execution_count": null,
   "id": "5a40a38f",
   "metadata": {},
   "outputs": [],
   "source": [
    "# Evaluate accuracy on the validation set\n",
    "_, accuracy = model.evaluate(X_val, y_val)\n",
    "print(\"Validation Accuracy:\", accuracy)"
   ]
  }
 ],
 "metadata": {
  "kernelspec": {
   "display_name": ".venv",
   "language": "python",
   "name": "python3"
  },
  "language_info": {
   "codemirror_mode": {
    "name": "ipython",
    "version": 3
   },
   "file_extension": ".py",
   "mimetype": "text/x-python",
   "name": "python",
   "nbconvert_exporter": "python",
   "pygments_lexer": "ipython3",
   "version": "3.10.6"
  }
 },
 "nbformat": 4,
 "nbformat_minor": 5
}

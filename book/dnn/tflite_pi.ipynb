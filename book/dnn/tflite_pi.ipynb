{
 "cells": [
  {
   "cell_type": "markdown",
   "metadata": {},
   "source": [
    "# TF Lite 🥧"
   ]
  },
  {
   "cell_type": "markdown",
   "metadata": {},
   "source": [
    "## Next step: Raspberry Pi!\n",
    "\n",
    "Now go put the tflite model on an embedded device, such as Raspberry Pi, and conduct inference!\n",
    "\n",
    "### Running on Raspberry Pi OS Bullseye 11\n",
    "\n",
    "This was tested with a Pi 4 running 64-bit Bullseye.\n",
    "\n",
    "First, clone this repository to your Pi\n",
    "\n",
    "```bash\n",
    "git clone --depth 1 https://github.com/USAFA-ECE/ai-hardware.git\n",
    "```\n",
    "\n",
    "Then navigate to `cat-dog/`\n",
    "\n",
    "Next, create a virtual environment. This will isolate Python dependencies.\n",
    "\n",
    "```bash\n",
    "python3 -m venv env\n",
    "source env/bin/activate\n",
    "```\n",
    "Install dependencies (located in the `book/` dir):\n",
    "\n",
    "```bash\n",
    "pip install -r tflite-requirements.txt\n",
    "```\n",
    "\n",
    "Finally, change the above code to use `tflite` instead of `tf.lite`, as annotated in the comments.\n",
    "\n",
    "Finally, run it!\n",
    "\n",
    "### PiCamera for live inference\n",
    "\n",
    "On your own exercise. Write a new Python script that will take a picture of a real animal and tell you if it is a dog or cat."
   ]
  }
 ],
 "metadata": {
  "language_info": {
   "name": "python"
  },
  "orig_nbformat": 4
 },
 "nbformat": 4,
 "nbformat_minor": 2
}
